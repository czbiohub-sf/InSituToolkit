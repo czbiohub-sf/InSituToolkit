{
 "cells": [
  {
   "cell_type": "code",
   "execution_count": 16,
   "metadata": {},
   "outputs": [],
   "source": [
    "%gui qt5\n",
    "from starfish import Experiment, FieldOfView, display\n",
    "from starfish.image import ApplyTransform, Filter, LearnTransform\n",
    "from starfish.spots import FindSpots, DecodeSpots, AssignTargets\n",
    "from starfish.types import Axes, FunctionSource"
   ]
  },
  {
   "cell_type": "code",
   "execution_count": 2,
   "metadata": {},
   "outputs": [],
   "source": [
    "# import imaging_db.database.db_operations as db_ops\n",
    "# import imaging_db.utils.db_utils as db_utils\n",
    "\n",
    "# def get_n_z(dataset_id, credentials_str):\n",
    "\n",
    "#     with db_ops.session_scope(credentials_str) as session:\n",
    "#         frames = session.query(db_ops.Frames) \\\n",
    "#             .join(db_ops.FramesGlobal) \\\n",
    "#             .join(db_ops.DataSet) \\\n",
    "#             .filter(db_ops.DataSet.dataset_serial == dataset_id)\n",
    "        \n",
    "#         z_list = [f.slice_idx for f in frames]\n",
    "        \n",
    "#     return np.asarray(z_list)\n"
   ]
  },
  {
   "cell_type": "code",
   "execution_count": 3,
   "metadata": {},
   "outputs": [],
   "source": [
    "# credentials_filename = '/Users/kevin.yamauchi/Documents/db_credentials_new.json'\n",
    "# credentials_str = db_utils.get_connection_str(credentials_filename)\n",
    "\n",
    "# image_ids = [\n",
    "#     'ISP-2019-05-28-14-30-00-0001',\n",
    "#     'ISP-2019-05-28-14-30-00-0002',\n",
    "#     'ISP-2019-05-28-14-30-00-0003',\n",
    "#     'ISP-2019-05-28-14-30-00-0004'\n",
    "# ]\n",
    "\n",
    "# for i in image_ids:\n",
    "#     print(get_n_z(i, credentials_str))\n",
    "    "
   ]
  },
  {
   "cell_type": "code",
   "execution_count": 4,
   "metadata": {},
   "outputs": [],
   "source": [
    "# z = [0, 1, 2, 3, 4, 5, 6, 7, 8, 9, 10, 11, 12]\n",
    "# dataset_id = 'ISP-2019-05-28-14-30-00-0004'\n",
    "\n",
    "# with db_ops.session_scope(credentials_str) as session:\n",
    "#     frames = session.query(db_ops.Frames) \\\n",
    "#         .join(db_ops.FramesGlobal) \\\n",
    "#         .join(db_ops.DataSet) \\\n",
    "#         .filter(db_ops.DataSet.dataset_serial == dataset_id)\n",
    "#     frames2 = frames.filter(db_ops.Frames.slice_idx.in_(z))\n",
    "#     z_list = [f.slice_idx for f in frames]\n",
    "#     z_list2 = [f.slice_idx for f in frames2]\n",
    "    \n",
    "#     print(set(z_list))\n",
    "#     print(set(z_list2))\n",
    "    "
   ]
  },
  {
   "cell_type": "code",
   "execution_count": 1,
   "metadata": {
    "scrolled": true
   },
   "outputs": [],
   "source": [
    "from InSituToolkit.imaging_database import write_experiment\n",
    "\n",
    "image_ids = [\n",
    "    'ISP-2019-05-28-14-30-00-0001',\n",
    "    'ISP-2019-05-28-14-30-00-0002',\n",
    "    'ISP-2019-05-28-14-30-00-0003',\n",
    "    'ISP-2019-05-28-14-30-00-0004',\n",
    "]\n",
    "z_slices = [\n",
    "        [0, 1, 2, 3, 4, 5, 6, 7, 8, 9, 10, 11, 12],\n",
    "        [0, 1, 2, 3, 4, 5, 6, 7, 8, 9, 10, 11, 12],\n",
    "        [2, 3, 4, 5, 6, 7, 8, 9, 10, 11, 12, 13, 14],\n",
    "        [2, 3, 4, 5, 6, 7, 8, 9, 10, 11, 12, 13, 14],\n",
    "]\n",
    "spot_channels = ['G', 'T', 'A', 'C']\n",
    "stain_channel = ['FITC']\n",
    "db_credentials = '/Users/kevin.yamauchi/Documents/db_credentials_new.json'\n",
    "output_dir = \"./data/iss\"\n",
    "\n",
    "write_experiment(db_credentials, output_dir, image_ids,\n",
    "                 spot_channels = spot_channels, stain_channels=stain_channel,\n",
    "                 positions = [3], z_slices = z_slices\n",
    ")\n"
   ]
  },
  {
   "cell_type": "code",
   "execution_count": null,
   "metadata": {},
   "outputs": [],
   "source": []
  },
  {
   "cell_type": "code",
   "execution_count": null,
   "metadata": {},
   "outputs": [],
   "source": []
  },
  {
   "cell_type": "code",
   "execution_count": 9,
   "metadata": {},
   "outputs": [],
   "source": [
    "# Load the data\n",
    "exp = Experiment.from_json(\"./data/iss/experiment.json\")\n",
    "\n",
    "imgs = exp['fov_000'].get_images(FieldOfView.PRIMARY_IMAGES)\n",
    "im = next(imgs)"
   ]
  },
  {
   "cell_type": "code",
   "execution_count": 10,
   "metadata": {},
   "outputs": [
    {
     "data": {
      "text/plain": [
       "<starfish.Experiment (FOVs=1)>\n",
       "{\n",
       "fov_000: <starfish.FieldOfView>\n",
       "  Primary Image: <slicedimage.TileSet (c: 4, r: 2, z: 13, x: 2048, y: 2048)>\n",
       "  Auxiliary Images:\n",
       "    stain: <slicedimage.TileSet (c: 1, r: 2, z: 13, x: 2048, y: 2048)>\n",
       "}"
      ]
     },
     "execution_count": 10,
     "metadata": {},
     "output_type": "execute_result"
    }
   ],
   "source": [
    "exp"
   ]
  },
  {
   "cell_type": "code",
   "execution_count": 17,
   "metadata": {},
   "outputs": [
    {
     "data": {
      "text/plain": [
       "<napari.viewer.Viewer at 0x19a8e7e48>"
      ]
     },
     "execution_count": 17,
     "metadata": {},
     "output_type": "execute_result"
    }
   ],
   "source": [
    "display(im)"
   ]
  },
  {
   "cell_type": "code",
   "execution_count": 14,
   "metadata": {},
   "outputs": [
    {
     "name": "stderr",
     "output_type": "stream",
     "text": [
      "100%|██████████| 104/104 [00:00<00:00, 1331.08it/s]\n",
      "100%|██████████| 104/104 [00:00<00:00, 267.62it/s]\n"
     ]
    }
   ],
   "source": [
    "# Filter the image\n",
    "ghp = Filter.GaussianHighPass(sigma=3)\n",
    "high_passed = ghp.run(im, verbose=True, in_place=False)\n",
    "\n",
    "\n",
    "glp = Filter.GaussianLowPass(sigma=1)\n",
    "low_passed = glp.run(high_passed, in_place=False, verbose=True)\n",
    "\n",
    "# Max intensity project the spots spots image\n",
    "mproj = Filter.Reduce((Axes.ZPLANE,), func='max', module=FunctionSource.np)\n",
    "mip = mproj.run(low_passed)"
   ]
  },
  {
   "cell_type": "code",
   "execution_count": 15,
   "metadata": {},
   "outputs": [
    {
     "name": "stderr",
     "output_type": "stream",
     "text": [
      "100%|██████████| 8/8 [00:00<00:00, 39.98it/s]\n"
     ]
    },
    {
     "data": {
      "text/plain": [
       "<napari.viewer.Viewer at 0x12c452438>"
      ]
     },
     "execution_count": 15,
     "metadata": {},
     "output_type": "execute_result"
    }
   ],
   "source": [
    "display(mip)"
   ]
  },
  {
   "cell_type": "code",
   "execution_count": null,
   "metadata": {},
   "outputs": [],
   "source": [
    "# Display a single plane of data\n",
    "single_plane = imgs.sel({Axes.ROUND: 0, Axes.CH: 0, Axes.ZPLANE: 0})\n",
    "\n",
    "\n",
    "learn_translation = LearnTransform.Translation(reference_stack=dots, axes=Axes.ROUND, upsampling=1000)\n",
    "transforms_list = learn_translation.run(imgs.reduce({Axes.CH, Axes.ZPLANE}, func=\"max\"))\n",
    "warp = ApplyTransform.Warp()\n",
    "registered_imgs = warp.run(filtered_imgs, transforms_list=transforms_list, in_place=False, verbose=True)"
   ]
  },
  {
   "cell_type": "code",
   "execution_count": null,
   "metadata": {},
   "outputs": [],
   "source": [
    "psd = DetectPixels.PixelSpotDecoder(\n",
    "    codebook=experiment.codebook,\n",
    "    metric='euclidean', # distance metric to use for computing distance between a pixel vector and a codeword\n",
    "    norm_order=2, # the L_n norm is taken of each pixel vector and codeword before computing the distance. this is n\n",
    "    distance_threshold=0.5176, # minimum distance between a pixel vector and a codeword for it to be called as a gene\n",
    "    magnitude_threshold=1.77e-5, # discard any pixel vectors below this magnitude\n",
    "    min_area=2, # do not call a 'spot' if it's area is below this threshold (measured in pixels)\n",
    "    max_area=np.inf, # do not call a 'spot' if it's area is above this threshold (measured in pixels)\n",
    ")\n",
    "\n",
    "initial_spot_intensities, prop_results = psd.run(filtered_imgs)\n",
    "\n",
    "spot_intensities = initial_spot_intensities.loc[initial_spot_intensities[Features.PASSES_THRESHOLDS]]"
   ]
  }
 ],
 "metadata": {
  "kernelspec": {
   "display_name": "Python 3",
   "language": "python",
   "name": "python3"
  },
  "language_info": {
   "codemirror_mode": {
    "name": "ipython",
    "version": 3
   },
   "file_extension": ".py",
   "mimetype": "text/x-python",
   "name": "python",
   "nbconvert_exporter": "python",
   "pygments_lexer": "ipython3",
   "version": "3.6.8"
  }
 },
 "nbformat": 4,
 "nbformat_minor": 2
}
