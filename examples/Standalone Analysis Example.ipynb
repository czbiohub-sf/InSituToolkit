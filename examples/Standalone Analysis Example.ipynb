{
 "cells": [
  {
   "cell_type": "markdown",
   "metadata": {},
   "source": [
    "### Standalone analysis\n",
    "\n",
    "This notebook details a standalone analysis of a single experiment, but can be readily extended to multiple experiment files as necessary. It details the following common steps in setting up an image processing pipeline:\n",
    "\n",
    "- Accessing image files loaded onto the imaging server at CZBiohub\n",
    "- Creating starfish Experiment files from images accessed on the server\n",
    "- Working with Experiment files and viewing images in napari\n",
    "- Segmenting cells using starfish watershed algorithm\n",
    "- Image pre-processing for detecting flourescent spots\n",
    "- Identifying spots and overlaying them with the raw images in napari\n",
    "- Constructing codebooks that assign targets to spots\n",
    "- Producing a target by cell matrix and other target statistics\n",
    "\n",
    "Questions? contact author @ andrew.cote@czbiohub.org"
   ]
  },
  {
   "cell_type": "markdown",
   "metadata": {},
   "source": [
    "#### Accessing image files loaded onto the imaging server at CZBiohub\n",
    "\n",
    "To access images located on the server, you require login credentials for the database. These can be provided by Andrew Cote (andrew.cote@czbiohub.org), in addition to installing the requisite libraries (InSitu Toolkit @ https://github.com/czbiohub/InSituToolkit). \n",
    "\n",
    "The login credentials are a simple .json file which we use to authenticate your requests to the database. This can be stored locally on your laptop. \n"
   ]
  },
  {
   "cell_type": "code",
   "execution_count": null,
   "metadata": {},
   "outputs": [],
   "source": [
    "# To start, we either need to know the dataset ids ahead of time, have a csv file with them (as might be \n",
    "# used to originaly upload the files from the microscope computer), or know the <id> \n",
    "# associated with the experiment files which we can then search in the database. \n",
    "\n",
    "# If we know the dataset id directly:\n",
    "dataset_id = 'GW-2019-12-22-04-45-00-0001'\n",
    "\n",
    "# Or even better, re-use the csv file we used on the microscope computer to upload the images \n",
    "import csv\n",
    "\n",
    "list_of_datasets = []\n",
    "with open('files_to_upload_example.csv') as csvfile:\n",
    "    read_csv = csv.reader(csvfile, delimiter = ',')\n",
    "    row_number = 0            # the top row of the csv file contains headers, which we want to ignore\n",
    "    for row in read_csv:\n",
    "        if row_number >= 1:\n",
    "            list_of_datasets.append(row[0])\n",
    "        row_number += 1\n",
    "        "
   ]
  },
  {
   "cell_type": "code",
   "execution_count": null,
   "metadata": {},
   "outputs": [],
   "source": [
    "# OPTIONAL DETOUR (This can be skipped if you use the built in InSituToolkit functions).\n",
    "\n",
    "# We can access all the metadata associated with the experiment by using database operations. \n",
    "# DatabaseOperations is a class in python that takes a unique dataset id in the constructor, and so must be re-made\n",
    "# each time you want to query metadata for a different experiment\n",
    "\n",
    "# A full tutorial for querying the database is given at \n",
    "# https://github.com/czbiohub/imagingDB/blob/master/notebooks/database_queries.ipynb\n",
    "\n",
    "from imaging_db.database.db_operations import DatabaseOperations\n",
    "import imaging_db.database.db_operations as db_ops\n",
    "import imaging_db.utils.db_utils as db_utils\n",
    "\n",
    "# Note: refer to your own db_credentials.json location stored locally\n",
    "db_credentials = '/Users/andrew.cote/Documents/db_credentials.json'  \n",
    "\n",
    "dbops = DatabaseOperations(dataset_id)\n",
    "credentials_str = db_utils.get_connection_str(db_credentials)\n",
    "with db_ops.session_scope(credentials_str) as session:\n",
    "    global_meta, frames_meta = dbops.get_frames_meta(session)\n",
    "    \n",
    "# global_meta and frames_meta now contained all the metadata associated with the whole experiment, and each frame"
   ]
  },
  {
   "cell_type": "markdown",
   "metadata": {},
   "source": [
    "### Creating \"starfish experiment\" files from images accessed on the server\n",
    "\n",
    "Once we are able to access the raw image files on the database, we'd like to create starfish 'Experiment' objects to simplify the later analysis. Each Experiment is a self-contained module that has all raw image data, as well as metadata. Subsequent analysis in this notebook is restricted to a single experiment, but can be generalized to many experiments as all Experiment objects have the same interface / methods. \n",
    "\n",
    "An Experiment object is essentially a series of .json files that contain metadata which reference the raw images on the database. Therefore they are fairly small in size and can be created and stored locally, ideally in a './experiments/' folder for ease of navigation."
   ]
  },
  {
   "cell_type": "code",
   "execution_count": null,
   "metadata": {},
   "outputs": [],
   "source": [
    "# Create the directories to contain experiment files\n",
    "import os\n",
    "cwd = os.getcwd()\n",
    "experiment_path = cwd + '/experiments/' + dataset_id + '/'\n",
    "\n",
    "if not os.path.exists(experiment_path):\n",
    "    os.mkdir(experiment_path)"
   ]
  },
  {
   "cell_type": "code",
   "execution_count": null,
   "metadata": {},
   "outputs": [],
   "source": []
  },
  {
   "cell_type": "code",
   "execution_count": 5,
   "metadata": {},
   "outputs": [
    {
     "ename": "TypeError",
     "evalue": "write_experiment() got an unexpected keyword argument 'tile_format'",
     "output_type": "error",
     "traceback": [
      "\u001b[0;31m---------------------------------------------------------------------------\u001b[0m",
      "\u001b[0;31mTypeError\u001b[0m                                 Traceback (most recent call last)",
      "\u001b[0;32m<ipython-input-5-398315d6c465>\u001b[0m in \u001b[0;36m<module>\u001b[0;34m\u001b[0m\n\u001b[1;32m     29\u001b[0m                 \u001b[0mstain_channels\u001b[0m \u001b[0;34m=\u001b[0m \u001b[0mstain_channel\u001b[0m\u001b[0;34m,\u001b[0m\u001b[0;31m \u001b[0m\u001b[0;31m\\\u001b[0m\u001b[0;34m\u001b[0m\u001b[0;34m\u001b[0m\u001b[0m\n\u001b[1;32m     30\u001b[0m                 \u001b[0mpositions\u001b[0m \u001b[0;34m=\u001b[0m \u001b[0mpositions\u001b[0m\u001b[0;34m,\u001b[0m\u001b[0;31m \u001b[0m\u001b[0;31m\\\u001b[0m\u001b[0;34m\u001b[0m\u001b[0;34m\u001b[0m\u001b[0m\n\u001b[0;32m---> 31\u001b[0;31m                 tile_format=ImageFormat.PNG)   # By default the InSituScope saves as .PNG files, though starfish also\n\u001b[0m",
      "\u001b[0;31mTypeError\u001b[0m: write_experiment() got an unexpected keyword argument 'tile_format'"
     ]
    }
   ],
   "source": [
    "# To create experiment files we need to find a few key pieces of metadata: positions, and channels \n",
    "# these could be retrieved through the above database queries but InSituToolkit exposes a few useful methods\n",
    "\n",
    "from InSituToolkit.imaging_database import write_experiment, get_positions, get_channels, search_ids\n",
    "from slicedimage import ImageFormat\n",
    "db_credentials = '/Users/andrew.cote/Documents/db_credentials.json' \n",
    "\n",
    "\n",
    "# search the database for dataset id's that contain a certain string\n",
    "set_of_datasets = search_ids(db_credentials, 'GW')\n",
    "\n",
    "# find all the microscope positions for a dataset in the database\n",
    "positions = get_positions(db_credentials, dataset_id)\n",
    "\n",
    "# find the filters and channels used\n",
    "# Note: it is good practice to inspect the channels variable manually to double check we are not mis-assigning channels\n",
    "channels = get_channels(db_credentials, dataset_id)\n",
    "\n",
    "nuc_channel = [channels[0]]\n",
    "stain_channel = [channels[1]]\n",
    "spot_channel = [channels[2], channels[3], channels[4]]\n",
    "\n",
    "# Note: the dataset_id MUST be contained in a list. Multiple dataset ID's could be written to the same experiment\n",
    "# if the channels are common among them. \n",
    "\n",
    "write_experiment(db_credentials, experiment_path, [dataset_id], \n",
    "                spot_channels = spot_channel, \\\n",
    "                nuc_channels = nuc_channel, \\\n",
    "                stain_channels = stain_channel, \\\n",
    "                positions = positions, \\\n",
    "                tile_format=ImageFormat.PNG)   # By default the InSituScope saves as .PNG files, though starfish also\n"
   ]
  },
  {
   "cell_type": "code",
   "execution_count": null,
   "metadata": {},
   "outputs": [],
   "source": [
    "# OPTIONAL DETOUR: For a larger number of experiments with the same <id>, we could generalize this to:\n",
    "list_of_datasets = []\n",
    "list_of_positions = []\n",
    "list_of_channels = []\n",
    "for dataset_id in search_ids(db_credentials, 'GW'):\n",
    "    list_of_datasets.append(dataset_id)\n",
    "    list_of_positions.append(get_positions(db_credentials, dataset_id))\n",
    "    list_of_channels.append(get_channels(db_credentials, dataset_id))\n",
    "    \n",
    "# ... include the above code for creating directories and experiments (ommitted here for run-ability of this notebook)"
   ]
  },
  {
   "cell_type": "markdown",
   "metadata": {},
   "source": [
    "### Working with Starfish Experiment files and viewing images in napari\n",
    "\n",
    "Napari is a viewer that is built around manipulating high-dimensional image files, for example, the 5D image file from a starfish Experiment, where the dimensions are (Round, Channel, Z, X, Y). It also has convenient options for viewing spots, stains, and segmentation masks on top of raw image files. "
   ]
  },
  {
   "cell_type": "code",
   "execution_count": null,
   "metadata": {},
   "outputs": [],
   "source": [
    "# note: the below command '%gui qt5' is only required in a jupyter notebook. In a standalone script, starfish.display \n",
    "# will open the napari window by default. \n",
    "\n",
    "%gui qt5\n",
    "from starfish import Experiment, FieldOfView, display\n",
    "\n",
    "exp = Experiment.from_json(experiment_path + 'experiment.json')"
   ]
  },
  {
   "cell_type": "code",
   "execution_count": null,
   "metadata": {},
   "outputs": [],
   "source": [
    "# Experiment objects are dicts which hold all the image data for each microscope location, or fov\n",
    "\n",
    "sample_images = exp['fov_000'].get_images(FieldOfView.PRIMARY_IMAGES)"
   ]
  },
  {
   "cell_type": "code",
   "execution_count": null,
   "metadata": {},
   "outputs": [],
   "source": [
    "fov = exp['fov_000']\n",
    "fov.image_types"
   ]
  },
  {
   "cell_type": "code",
   "execution_count": null,
   "metadata": {},
   "outputs": [],
   "source": [
    "global_meta"
   ]
  },
  {
   "cell_type": "code",
   "execution_count": null,
   "metadata": {},
   "outputs": [],
   "source": [
    "frames_meta"
   ]
  },
  {
   "cell_type": "markdown",
   "metadata": {},
   "source": [
    "### Segmenting cells using starfish watershed algorithm\n",
    "\n",
    "TODO: this part"
   ]
  },
  {
   "cell_type": "markdown",
   "metadata": {},
   "source": [
    "### Codebook construction\n",
    "\n",
    "Codebooks associate the information of different colored spots across rounds to specified target genes. They can be used in two ways:\n",
    "\n",
    "- RNAscope: associated spots in each channel with a target gene\n",
    "- InSituSequencing: associate a specific sequence of spots present in different channels with a target gene\n"
   ]
  },
  {
   "cell_type": "code",
   "execution_count": null,
   "metadata": {},
   "outputs": [],
   "source": [
    "from starfish import Codebook\n",
    "from starfish.types import Axes, Coordinates, Features\n",
    "\n",
    "# RNAscope codebooks should only have one round value for each target gene, as they are imaged in a single round\n",
    "codebook_RNAscope = [\n",
    "      {\n",
    "          Features.CODEWORD: [\n",
    "              {Axes.ROUND.value: 0, Axes.CH.value: 0, Features.CODE_VALUE: 1},\n",
    "          ],\n",
    "          Features.TARGET: \"example_gene1\"\n",
    "      },\n",
    "      {\n",
    "          Features.CODEWORD: [\n",
    "              {Axes.ROUND.value: 0, Axes.CH.value: 1, Features.CODE_VALUE: 1},\n",
    "          ],\n",
    "          Features.TARGET: \"example_gene2\"\n",
    "      },\n",
    "      {\n",
    "          Features.CODEWORD: [\n",
    "              {Axes.ROUND.value: 0, Axes.CH.value: 2, Features.CODE_VALUE: 1},\n",
    "          ],\n",
    "          Features.TARGET: \"example_gene3\"\n",
    "      },\n",
    "  ]\n",
    "\n",
    "# ISS codebooks will by nature have multiple rounds for each gene, each round corresponds to reading off a single\n",
    "# letter of the barcode. The different letters will appear on different channels and therefore can be repeated in\n",
    "# a single target. Round number refers to position in the sequence and so must be unique for a given target. \n",
    "codebook_ISS = [\n",
    "      {\n",
    "          Features.CODEWORD: [\n",
    "              {Axes.ROUND.value: 0, Axes.CH.value: 0, Features.CODE_VALUE: 1},\n",
    "              {Axes.ROUND.value: 1, Axes.CH.value: 1, Features.CODE_VALUE: 1},\n",
    "              {Axes.ROUND.value: 2, Axes.CH.value: 0, Features.CODE_VALUE: 1},\n",
    "              {Axes.ROUND.value: 3, Axes.CH.value: 2, Features.CODE_VALUE: 1}\n",
    "          ],\n",
    "          Features.TARGET: \"example_gene1\"\n",
    "      },\n",
    "      {\n",
    "          Features.CODEWORD: [\n",
    "              {Axes.ROUND.value: 0, Axes.CH.value: 0, Features.CODE_VALUE: 1},\n",
    "              {Axes.ROUND.value: 1, Axes.CH.value: 1, Features.CODE_VALUE: 1},\n",
    "              {Axes.ROUND.value: 2, Axes.CH.value: 0, Features.CODE_VALUE: 1},\n",
    "              {Axes.ROUND.value: 3, Axes.CH.value: 2, Features.CODE_VALUE: 1}\n",
    "          ],\n",
    "          Features.TARGET: \"example_gene2\"\n",
    "      }\n",
    "  ]\n",
    "\n",
    "# Since this example experiment uses RNA scope, we finish the codebook construction by calling the constructor for \n",
    "# the starfish Codebook object. \n",
    "codebook = Codebook.from_code_array(codebook_RNAscope)"
   ]
  },
  {
   "cell_type": "code",
   "execution_count": null,
   "metadata": {},
   "outputs": [],
   "source": []
  }
 ],
 "metadata": {
  "kernelspec": {
   "display_name": "Python 3",
   "language": "python",
   "name": "python3"
  },
  "language_info": {
   "codemirror_mode": {
    "name": "ipython",
    "version": 3
   },
   "file_extension": ".py",
   "mimetype": "text/x-python",
   "name": "python",
   "nbconvert_exporter": "python",
   "pygments_lexer": "ipython3",
   "version": "3.7.5"
  }
 },
 "nbformat": 4,
 "nbformat_minor": 2
}
