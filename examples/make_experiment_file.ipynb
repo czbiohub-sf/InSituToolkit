{
 "cells": [
  {
   "cell_type": "markdown",
   "metadata": {},
   "source": [
    "# Loading data into starfish from the imagingDB\n",
    "In this example, we load data from the imaging database into the starfish format. starfish loads data from an experiment.json file that proves the structure and location of the individual images that comprise an experiment. For more details on the experiment.json format, please see __\n",
    "\n",
    "### Creating the experiment.json files\n",
    "To create the experiment.json file, we load the `write_experiment()` function. The starfish `ImageStack` contains a 5d array with axes ordered (round, channel, z slice, y, x). We specify the imagingDB id for each round in the list `image_ids`. The channels to load are specified by the list `channels`. The output directory to save the generated files is given by `output_dir` (you should name the directory in a way that identifies the experiment). Finally, the database credential file path is given by `db_credentials`."
   ]
  },
  {
   "cell_type": "code",
   "execution_count": 1,
   "metadata": {},
   "outputs": [],
   "source": [
    "from InSituToolkit.imaging_database import write_experiment\n",
    "\n",
    "image_ids = ['SDG-2019-10-07-22-22-22-0098']\n",
    "spot_channels = ['Opal_570_low', 'Opal_620', 'Opal_690']\n",
    "nuc_channel = ['DAPI']\n",
    "db_credentials = '/Users/kevin.yamauchi/Documents/db_credentials_new.json'\n",
    "output_dir = \"./data/output\"\n",
    "\n",
    "write_experiment(db_credentials, output_dir, image_ids,\n",
    "                 spot_channels=spot_channels, nuc_channels=nuc_channel,\n",
    "                 positions=[12]\n",
    "                )\n"
   ]
  },
  {
   "cell_type": "code",
   "execution_count": 2,
   "metadata": {},
   "outputs": [],
   "source": [
    "from starfish import Codebook\n",
    "from starfish.types import Features, Axes\n",
    "\n",
    "codebook = [\n",
    "      {\n",
    "          Features.CODEWORD: [\n",
    "              {Axes.ROUND.value: 0, Axes.CH.value: 0, Features.CODE_VALUE: 1},\n",
    "          ],\n",
    "          Features.TARGET: \"Opal570\"\n",
    "      },\n",
    "      {\n",
    "          Features.CODEWORD: [\n",
    "              {Axes.ROUND.value: 0, Axes.CH.value: 1, Features.CODE_VALUE: 1},\n",
    "          ],\n",
    "          Features.TARGET: \"Opal620\"\n",
    "      },\n",
    "      {\n",
    "          Features.CODEWORD: [\n",
    "              {Axes.ROUND.value: 0, Axes.CH.value: 2, Features.CODE_VALUE: 1},\n",
    "          ],\n",
    "          Features.TARGET: \"Opal690\"\n",
    "      },\n",
    "  ]\n",
    "\n",
    "# instantiate and write the codebook\n",
    "cb = Codebook.from_code_array(codebook)\n",
    "codebook_path = './output/codebook.json'\n",
    "\n",
    "cb.to_json(codebook_path)"
   ]
  },
  {
   "cell_type": "markdown",
   "metadata": {},
   "source": [
    "### Loading the Experiment from the experiment.json files\n",
    "Next, we load the `ImageStack` into starfish via the experiment.json files. We instantiate the `Experiment` object via the `Experiment.from_json()` constructor."
   ]
  },
  {
   "cell_type": "code",
   "execution_count": 3,
   "metadata": {},
   "outputs": [],
   "source": [
    "from starfish import Experiment, FieldOfView, display\n",
    "path_to_experiment_file = './data/output/experiment.json'\n",
    "exp = Experiment.from_json(path_to_experiment_file)"
   ]
  },
  {
   "cell_type": "markdown",
   "metadata": {},
   "source": [
    "### Loading the images from the Experiment object\n",
    "From the `Experiment` object (`exp` in this example), we can load the images into starfish. First, we get the fields of view (`fov`), then we get the images associated with the primary images (`imgs`). The `imgs` is an iterator containing each field of view. We can get the first one by calling `next()` on the `imgs`, returning a starfish `ImageStack`."
   ]
  },
  {
   "cell_type": "code",
   "execution_count": null,
   "metadata": {},
   "outputs": [],
   "source": [
    "fov = exp.fov()\n",
    "imgs = fov.get_image(FieldOfView.PRIMARY_IMAGES)"
   ]
  },
  {
   "cell_type": "markdown",
   "metadata": {},
   "source": [
    "### Visualize the data\n",
    "To visualize the data, we use starfish `display()`. Note the usage of the `%gui qt5` magic to tell Jupyter which UI backend to use."
   ]
  },
  {
   "cell_type": "code",
   "execution_count": null,
   "metadata": {},
   "outputs": [],
   "source": [
    "%gui qt5\n",
    "from starfish import display\n",
    "\n",
    "display(imgs)"
   ]
  }
 ],
 "metadata": {
  "kernelspec": {
   "display_name": "Python 3",
   "language": "python",
   "name": "python3"
  },
  "language_info": {
   "codemirror_mode": {
    "name": "ipython",
    "version": 3
   },
   "file_extension": ".py",
   "mimetype": "text/x-python",
   "name": "python",
   "nbconvert_exporter": "python",
   "pygments_lexer": "ipython3",
   "version": "3.6.8"
  }
 },
 "nbformat": 4,
 "nbformat_minor": 2
}
