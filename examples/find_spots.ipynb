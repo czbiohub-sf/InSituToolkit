{
 "cells": [
  {
   "cell_type": "code",
   "execution_count": 1,
   "metadata": {},
   "outputs": [],
   "source": [
    "%gui qt5\n",
    "import numpy as np\n",
    "from skimage import io\n",
    "from starfish import Experiment, display, Codebook, ExpressionMatrix, IntensityTable\n",
    "from starfish.core.segmentation_mask import SegmentationMaskCollection\n",
    "from starfish.image import Filter\n",
    "from starfish.spots import DetectSpots, AssignTargets\n",
    "from starfish.types import Axes, Coordinates, Features, FunctionSource"
   ]
  },
  {
   "cell_type": "code",
   "execution_count": 2,
   "metadata": {},
   "outputs": [],
   "source": [
    "# Load the data\n",
    "exp = Experiment.from_json(\"./output/experiment.json\")\n",
    "im = exp.fov().get_image('primary')"
   ]
  },
  {
   "cell_type": "code",
   "execution_count": 3,
   "metadata": {},
   "outputs": [
    {
     "name": "stderr",
     "output_type": "stream",
     "text": [
      "100%|██████████| 21/21 [00:08<00:00,  2.61it/s]\n"
     ]
    },
    {
     "data": {
      "text/plain": [
       "<napari.viewer.Viewer at 0x13cd3b978>"
      ]
     },
     "execution_count": 3,
     "metadata": {},
     "output_type": "execute_result"
    }
   ],
   "source": [
    "# View the image stack\n",
    "display(im)"
   ]
  },
  {
   "cell_type": "code",
   "execution_count": 3,
   "metadata": {},
   "outputs": [
    {
     "name": "stderr",
     "output_type": "stream",
     "text": [
      "100%|██████████| 21/21 [00:07<00:00,  2.92it/s]\n",
      "100%|██████████| 21/21 [00:00<00:00, 649.13it/s]\n",
      "100%|██████████| 21/21 [00:00<00:00, 1088.66it/s]\n"
     ]
    }
   ],
   "source": [
    "# Filter the image\n",
    "ghp = Filter.GaussianHighPass(sigma=3)\n",
    "high_passed = ghp.run(im, verbose=True, in_place=False)\n",
    "\n",
    "\n",
    "glp = Filter.GaussianLowPass(sigma=1)\n",
    "low_passed = glp.run(high_passed, in_place=False, verbose=True)"
   ]
  },
  {
   "cell_type": "code",
   "execution_count": 4,
   "metadata": {},
   "outputs": [],
   "source": [
    "# Max intensity project the spots spots image\n",
    "mproj = Filter.Reduce((Axes.ZPLANE,), func='max', module=FunctionSource.np)\n",
    "mip = mproj.run(low_passed)"
   ]
  },
  {
   "cell_type": "code",
   "execution_count": 15,
   "metadata": {},
   "outputs": [],
   "source": [
    "# Find the spots\n",
    "p = DetectSpots.BlobDetector(\n",
    "    min_sigma=1,\n",
    "    max_sigma=10,\n",
    "    num_sigma=10,\n",
    "    threshold=0.00001,\n",
    "    measurement_type='mean',\n",
    ")\n",
    "\n",
    "# blobs = dots; define the spots in the dots image, but then find them again in the stack.\n",
    "intensities = p.run(mip)"
   ]
  },
  {
   "cell_type": "code",
   "execution_count": 16,
   "metadata": {},
   "outputs": [
    {
     "data": {
      "text/plain": [
       "<napari.components._viewer.model.Viewer at 0x145e0e198>"
      ]
     },
     "execution_count": 16,
     "metadata": {},
     "output_type": "execute_result"
    }
   ],
   "source": [
    "display(low_passed, intensities)"
   ]
  },
  {
   "cell_type": "code",
   "execution_count": null,
   "metadata": {},
   "outputs": [],
   "source": [
    "from InSituToolkit.analysis import save_stack\n",
    "\n",
    "# Save the nuclei stack\n",
    "nuc = exp.fov().get_image('nuclei')\n",
    "\n",
    "nuc_mip = mproj.run(nuc)\n",
    "\n",
    "save_stack(nuc, './nuc.tif')"
   ]
  }
 ],
 "metadata": {
  "kernelspec": {
   "display_name": "Python 3",
   "language": "python",
   "name": "python3"
  },
  "language_info": {
   "codemirror_mode": {
    "name": "ipython",
    "version": 3
   },
   "file_extension": ".py",
   "mimetype": "text/x-python",
   "name": "python",
   "nbconvert_exporter": "python",
   "pygments_lexer": "ipython3",
   "version": "3.6.8"
  }
 },
 "nbformat": 4,
 "nbformat_minor": 2
}
